{
 "cells": [
  {
   "cell_type": "markdown",
   "id": "4344793e",
   "metadata": {},
   "source": [
    "This notebook loads a data set of random numbers and prints various statistics."
   ]
  },
  {
   "cell_type": "code",
   "execution_count": 1,
   "id": "6eb56257",
   "metadata": {},
   "outputs": [],
   "source": [
    "from Randoms_2 import load_randoms\n",
    "import statistics"
   ]
  },
  {
   "cell_type": "markdown",
   "id": "29656d3a",
   "metadata": {},
   "source": [
    "Read the text file \"randoms_db.txt\" where each line is a random value followed by the indexes where it occurred. Note that unlike a regular py script which is running in the VSCode workspace folder, ipynb files are running in the folder where it resides. Hence the dataset file is referenced relative to that."
   ]
  },
  {
   "cell_type": "code",
   "execution_count": 2,
   "id": "4fee425f",
   "metadata": {},
   "outputs": [
    {
     "name": "stdout",
     "output_type": "stream",
     "text": [
      "Loaded 43 unique random generated in a sequence of 100 iterations\n"
     ]
    }
   ],
   "source": [
    "randoms_map, count = load_randoms(\"randoms_db.txt\")\n",
    "print(f\"Loaded {len(randoms_map.keys())} unique random generated in a sequence of {count} iterations\")"
   ]
  },
  {
   "cell_type": "markdown",
   "id": "3796d55f",
   "metadata": {},
   "source": [
    "Print a few statistics: min, max random values,  mean, median(aka average) and standard deviation (aka stdev) of the sequence."
   ]
  },
  {
   "cell_type": "code",
   "execution_count": 3,
   "id": "864b67fa",
   "metadata": {},
   "outputs": [
    {
     "name": "stdout",
     "output_type": "stream",
     "text": [
      "Count of unique randoms: 43\n",
      "Min random: 15; Max random: 65\n",
      "Mean of the sequence: 39.97674418604651\n",
      "Median of the sequence: 40\n",
      "Standard Deviation of the sequence: 14.303659824862379\n"
     ]
    }
   ],
   "source": [
    "print(f\"Count of unique randoms: {len(randoms_map.keys())}\")\n",
    "sorted_randoms = sorted(randoms_map.keys())\n",
    "print(f\"Min random: {sorted_randoms[0]}; Max random: {sorted_randoms[-1]}\")\n",
    "print(f\"Mean of the sequence: {statistics.mean(randoms_map.keys())}\")\n",
    "print(f\"Median of the sequence: {statistics.median(randoms_map.keys())}\")\n",
    "print(f\"Standard Deviation of the sequence: {statistics.stdev(sorted_randoms)}\")"
   ]
  },
  {
   "cell_type": "markdown",
   "id": "39ce53eb",
   "metadata": {},
   "source": [
    "Read from the input the desired topN count of most frequent randoms that should be printed.\n",
    "Then, store in an array all the randoms along with their individual count. Each entry in the array is an object with two fields:\n",
    "- _value_: the random value\n",
    "- _count_: the value's frequency or count of occurrences in the sequence. \n",
    "In the end the array is sorted in the descending order of each object's _count_ value and the first topN are printed out."
   ]
  },
  {
   "cell_type": "code",
   "execution_count": 4,
   "id": "7aeb2cbc",
   "metadata": {},
   "outputs": [],
   "source": [
    "topN = int(input(\"Count of most frequent numbers?> \"))\n",
    "randoms_array = []\n",
    "for random_value in randoms_map.keys():\n",
    "    randoms_array.append({\"value\" : random_value, \"count\" : len(randoms_map[random_value])}) \n",
    "randoms_array.sort(key=lambda x: x[\"count\"], reverse=True)"
   ]
  },
  {
   "cell_type": "markdown",
   "id": "cfe877da",
   "metadata": {},
   "source": [
    "Use a lambda expresion to map the first _topN_ objects from the sorted array to a string showing a random value and the count of its occurrences in the sequence. \n",
    "Join these strings together, each a new line, then print the resulting text."
   ]
  },
  {
   "cell_type": "code",
   "execution_count": 5,
   "id": "c4aceec9",
   "metadata": {},
   "outputs": [
    {
     "name": "stdout",
     "output_type": "stream",
     "text": [
      "random 18 occurred 6 times\n",
      "random 40 occurred 5 times\n",
      "random 58 occurred 4 times\n",
      "random 37 occurred 4 times\n",
      "random 54 occurred 4 times\n",
      "random 27 occurred 4 times\n",
      "random 28 occurred 3 times\n",
      "random 44 occurred 3 times\n",
      "random 20 occurred 3 times\n",
      "random 56 occurred 3 times\n",
      "random 65 occurred 3 times\n",
      "random 19 occurred 3 times\n",
      "random 23 occurred 3 times\n",
      "random 31 occurred 3 times\n",
      "random 45 occurred 3 times\n",
      "random 47 occurred 3 times\n",
      "random 22 occurred 2 times\n",
      "random 55 occurred 2 times\n",
      "random 46 occurred 2 times\n",
      "random 60 occurred 2 times\n"
     ]
    }
   ],
   "source": [
    "lines = [\n",
    "    f'random {r[\"value\"]} occurred {r[\"count\"]} times'\n",
    "    for r in randoms_array[:topN]\n",
    "]\n",
    "print(\"\\n\".join(lines))"
   ]
  }
 ],
 "metadata": {
  "kernelspec": {
   "display_name": "Python 3",
   "language": "python",
   "name": "python3"
  },
  "language_info": {
   "codemirror_mode": {
    "name": "ipython",
    "version": 3
   },
   "file_extension": ".py",
   "mimetype": "text/x-python",
   "name": "python",
   "nbconvert_exporter": "python",
   "pygments_lexer": "ipython3",
   "version": "3.13.5"
  }
 },
 "nbformat": 4,
 "nbformat_minor": 5
}
